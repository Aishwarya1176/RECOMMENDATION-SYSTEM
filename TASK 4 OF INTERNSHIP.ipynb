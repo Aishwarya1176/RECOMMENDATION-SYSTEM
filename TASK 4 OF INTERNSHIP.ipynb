{
 "cells": [
  {
   "cell_type": "code",
   "execution_count": 7,
   "id": "3c41a7b4-7861-4899-897f-0d09adc92015",
   "metadata": {},
   "outputs": [
    {
     "name": "stdout",
     "output_type": "stream",
     "text": [
      "(array([[1.0126897 , 1.38054485],\n",
      "       [1.44807578, 1.44179003],\n",
      "       [1.01268321, 1.46089066]]), array([[0.90782108, 1.45973909],\n",
      "       [1.87485363, 1.54541179],\n",
      "       [0.5958199 , 0.86306054]]))\n"
     ]
    }
   ],
   "source": [
    "import numpy as np\n",
    "\n",
    "class MatrixFactorization:\n",
    "    def __init__(self, feedback_matrix, nb_features, steps=5000, lr=0.0002, reg=0.02):\n",
    "        self.feedback_matrix = feedback_matrix\n",
    "        self.nb_features = nb_features\n",
    "        self.steps = steps\n",
    "        self.lr = lr\n",
    "        self.reg = reg\n",
    "        self.P = None\n",
    "        self.Q = None\n",
    "\n",
    "    def fit(self):\n",
    "        num_users, num_items = self.feedback_matrix.shape\n",
    "        self.P = np.random.rand(num_users, self.nb_features)\n",
    "        self.Q = np.random.rand(self.nb_features, num_items)\n",
    "\n",
    "        for step in range(self.steps):\n",
    "            for i in range(num_users):\n",
    "                for j in range(num_items):\n",
    "                    if self.feedback_matrix[i][j] > 0:\n",
    "                        eij = self.feedback_matrix[i][j] - np.dot(self.P[i, :], self.Q[:, j])\n",
    "                        for k in range(self.nb_features):\n",
    "                            self.P[i][k] += self.lr * (2 * eij * self.Q[k][j] - self.reg * self.P[i][k])\n",
    "                            self.Q[k][j] += self.lr * (2 * eij * self.P[i][k] - self.reg * self.Q[k][j])\n",
    "\n",
    "            eR = np.dot(self.P, self.Q)\n",
    "            e = 0\n",
    "            for i in range(num_users):\n",
    "                for j in range(num_items):\n",
    "                    if self.feedback_matrix[i][j] > 0:\n",
    "                        e += pow(self.feedback_matrix[i][j] - np.dot(self.P[i, :], self.Q[:, j]), 2)\n",
    "                        for k in range(self.nb_features):\n",
    "                            e += (self.reg / 2) * (pow(self.P[i][k], 2) + pow(self.Q[k][j], 2))\n",
    "\n",
    "            if e < 0.001:\n",
    "                break\n",
    "\n",
    "    def get_matrices(self):\n",
    "        return self.P, self.Q.T\n",
    "\n",
    "feedback_matrix = [\n",
    "    [3, 4, 0],\n",
    "    [0, 5, 2],\n",
    "    [3, 0, 2],\n",
    "]\n",
    "matrix_factorization = MatrixFactorization(np.array(feedback_matrix), 2)\n",
    "matrix_factorization.fit()\n",
    "print(matrix_factorization.get_matrices())"
   ]
  },
  {
   "cell_type": "code",
   "execution_count": null,
   "id": "6b130ff2-8770-400d-9766-83478907f99c",
   "metadata": {},
   "outputs": [],
   "source": []
  }
 ],
 "metadata": {
  "kernelspec": {
   "display_name": "Python 3 (ipykernel)",
   "language": "python",
   "name": "python3"
  },
  "language_info": {
   "codemirror_mode": {
    "name": "ipython",
    "version": 3
   },
   "file_extension": ".py",
   "mimetype": "text/x-python",
   "name": "python",
   "nbconvert_exporter": "python",
   "pygments_lexer": "ipython3",
   "version": "3.12.4"
  }
 },
 "nbformat": 4,
 "nbformat_minor": 5
}
